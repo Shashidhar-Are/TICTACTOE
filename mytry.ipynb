{
 "cells": [
  {
   "cell_type": "code",
   "execution_count": 1,
   "id": "68fec155",
   "metadata": {},
   "outputs": [],
   "source": [
    "# TICK TACK TOE PROJECT\n",
    "m=[\"0\",\"1\",\"2\",\"3\",\"4\",\"5\",'6',\"7\",\"8\"]\n",
    "n=[\"0\",\"1\",\"2\",\"3\",\"4\",\"5\",'6',\"7\",\"8\"]"
   ]
  },
  {
   "cell_type": "code",
   "execution_count": 2,
   "id": "9b9b8537",
   "metadata": {},
   "outputs": [],
   "source": [
    "# FOR DISPLAYING\n",
    "def display():\n",
    "   print(f\"{m[0]} {m[1]} {m[2]}\\n{m[3]} {m[4]} {m[5]}\\n{m[6]} {m[7]} {m[8]}\\n\\n\")\n"
   ]
  },
  {
   "cell_type": "code",
   "execution_count": 3,
   "id": "8926ab4d",
   "metadata": {},
   "outputs": [
    {
     "name": "stdout",
     "output_type": "stream",
     "text": [
      "0 1 2\n",
      "3 4 5\n",
      "6 7 8\n",
      "\n",
      "\n"
     ]
    }
   ],
   "source": [
    "display()"
   ]
  },
  {
   "cell_type": "code",
   "execution_count": 4,
   "id": "424c4bf6",
   "metadata": {},
   "outputs": [],
   "source": [
    "from IPython.display import clear_output"
   ]
  },
  {
   "cell_type": "code",
   "execution_count": 5,
   "id": "f8b6d77d",
   "metadata": {},
   "outputs": [],
   "source": [
    "# CODE FOR PICKING A POSITION\n",
    "def pick():\n",
    "    choice=10\n",
    "    while choice not in n:\n",
    "        choice=input('Choose the position:')\n",
    "        if choice not in n:\n",
    "            print('Choose a valid position ')\n",
    "    n.remove(choice)\n",
    "    return choice"
   ]
  },
  {
   "cell_type": "code",
   "execution_count": 6,
   "id": "caafac5f",
   "metadata": {},
   "outputs": [],
   "source": [
    "#CODE FOR PICKING MARKER BY A RANDOM PLAYER\n",
    "def marker():\n",
    "    clear_output()\n",
    "    markerr='K'\n",
    "    from random import randint\n",
    "    global f\n",
    "    f=randint(1,2)\n",
    "    while markerr not in ['X','O']:\n",
    "        markerr=input(f'Player {f}  choose the marker(X/O):')\n",
    "        if markerr not in 'X' or 'O':\n",
    "            print('Please choose from X or O')\n",
    "    if f==1:\n",
    "        return ['X','O'] if markerr=='X' else ['O','X']\n",
    "    else:\n",
    "        return ['O','X'] if markerr=='X' else ['X','O']"
   ]
  },
  {
   "cell_type": "code",
   "execution_count": 7,
   "id": "5b2e8a97",
   "metadata": {},
   "outputs": [],
   "source": [
    "# CODE WHETHER TO REPLAY GAME OR EXIT\n",
    "def replay():\n",
    "    a=\"k\"\n",
    "    \n",
    "    while a not in [\"y\",'n']:\n",
    "        a=input('Do u want to play again?(y/n):')\n",
    "        if a not in [\"y\",'n']:\n",
    "            print('Choose from y/n:')\n",
    "    \n",
    "    if a=='y':\n",
    "        m=[\"0\",\"1\",\"2\",\"3\",\"4\",\"5\",'6',\"7\",\"8\"]\n",
    "    return True if a=='y' else False\n",
    "    \n",
    "\n",
    "        \n",
    "    "
   ]
  },
  {
   "cell_type": "code",
   "execution_count": 8,
   "id": "0b2d4198",
   "metadata": {},
   "outputs": [],
   "source": [
    "# CODE TO CHECK IF ANY WON\n",
    "def check():\n",
    "    if m[0]==m[1]==m[2] or m[3]==m[4]==m[5] or m[6]==m[7]==m[8] or m[0]==m[3]==m[6] or m[1]==m[4]==m[7] or m[2]==m[5]==m[8] or m[0]==m[4]==m[7] or m[2]==m[4]==m[6]:\n",
    "        return True\n",
    "    else:\n",
    "        return False"
   ]
  },
  {
   "cell_type": "code",
   "execution_count": null,
   "id": "58b06988",
   "metadata": {},
   "outputs": [
    {
     "name": "stdout",
     "output_type": "stream",
     "text": [
      "Player 1  choose the marker(X/O):X\n",
      "Please choose from X or O\n",
      "Player 1's turn\n",
      "0 1 2\n",
      "3 4 5\n",
      "6 7 8\n",
      "\n",
      "\n"
     ]
    }
   ],
   "source": [
    "#FINAL CODE\n",
    "    play=True\n",
    "    while play:\n",
    "        h=0\n",
    "        m=[\"0\",\"1\",\"2\",\"3\",\"4\",\"5\",'6',\"7\",\"8\"]\n",
    "        n=[\"0\",\"1\",\"2\",\"3\",\"4\",\"5\",'6',\"7\",\"8\"]\n",
    "        clear_output()\n",
    "        e=marker()\n",
    "        while h<9:\n",
    "            if h%2==0:\n",
    "                print(f\"Player {f}\\'s turn\" )\n",
    "                display()\n",
    "                b=pick()\n",
    "                m[int(b)]=e[0]\n",
    "                c=check()\n",
    "                if c==True:\n",
    "                    print(f'Player {f} won the game')\n",
    "                    display()\n",
    "                    break\n",
    "                h+=1\n",
    "            elif h==9:\n",
    "                print('You are out of moves')\n",
    "                play=replay()\n",
    "                break\n",
    "            else:\n",
    "                print(f\"Player {-f+3}\\'s turn\" )\n",
    "                display()\n",
    "                b=pick()\n",
    "                m[int(b)]=e[1]\n",
    "                c=check()\n",
    "                if c==True:\n",
    "                    print(f'Player {-f+3} won the game')\n",
    "                    display()\n",
    "                    break\n",
    "                h+=1\n",
    "        play=replay()\n",
    "        \n",
    "                \n",
    "            \n",
    "        "
   ]
  },
  {
   "cell_type": "code",
   "execution_count": null,
   "id": "9ca00e95",
   "metadata": {},
   "outputs": [],
   "source": []
  }
 ],
 "metadata": {
  "kernelspec": {
   "display_name": "Python 3",
   "language": "python",
   "name": "python3"
  },
  "language_info": {
   "codemirror_mode": {
    "name": "ipython",
    "version": 3
   },
   "file_extension": ".py",
   "mimetype": "text/x-python",
   "name": "python",
   "nbconvert_exporter": "python",
   "pygments_lexer": "ipython3",
   "version": "3.8.8"
  }
 },
 "nbformat": 4,
 "nbformat_minor": 5
}
